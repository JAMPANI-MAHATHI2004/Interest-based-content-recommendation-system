{
  "nbformat": 4,
  "nbformat_minor": 0,
  "metadata": {
    "colab": {
      "provenance": []
    },
    "kernelspec": {
      "name": "python3",
      "display_name": "Python 3"
    },
    "language_info": {
      "name": "python"
    }
  },
  "cells": [
    {
      "cell_type": "markdown",
      "source": [
        "**Task:** Recommend top 3 posts for each user based on profile interests, past engagement, and content attributes."
      ],
      "metadata": {
        "id": "kkyK1e7Pc8mI"
      }
    },
    {
      "cell_type": "code",
      "metadata": {
        "colab": {
          "base_uri": "https://localhost:8080/"
        },
        "id": "6e8dbf02",
        "outputId": "38ae7428-5f06-4ca9-d32f-db7abff7b371"
      },
      "source": [
        "!pip install chromadb"
      ],
      "execution_count": 6,
      "outputs": [
        {
          "output_type": "stream",
          "name": "stdout",
          "text": [
            "Collecting chromadb\n",
            "  Using cached chromadb-1.1.0-cp39-abi3-manylinux_2_17_x86_64.manylinux2014_x86_64.whl.metadata (7.2 kB)\n",
            "Requirement already satisfied: build>=1.0.3 in /usr/local/lib/python3.12/dist-packages (from chromadb) (1.3.0)\n",
            "Requirement already satisfied: pydantic>=1.9 in /usr/local/lib/python3.12/dist-packages (from chromadb) (2.11.9)\n",
            "Requirement already satisfied: pybase64>=1.4.1 in /usr/local/lib/python3.12/dist-packages (from chromadb) (1.4.2)\n",
            "Requirement already satisfied: uvicorn>=0.18.3 in /usr/local/lib/python3.12/dist-packages (from uvicorn[standard]>=0.18.3->chromadb) (0.35.0)\n",
            "Requirement already satisfied: numpy>=1.22.5 in /usr/local/lib/python3.12/dist-packages (from chromadb) (2.0.2)\n",
            "Requirement already satisfied: posthog<6.0.0,>=2.4.0 in /usr/local/lib/python3.12/dist-packages (from chromadb) (5.4.0)\n",
            "Requirement already satisfied: typing-extensions>=4.5.0 in /usr/local/lib/python3.12/dist-packages (from chromadb) (4.15.0)\n",
            "Collecting onnxruntime>=1.14.1 (from chromadb)\n",
            "  Using cached onnxruntime-1.23.0-cp312-cp312-manylinux_2_27_x86_64.manylinux_2_28_x86_64.whl.metadata (4.9 kB)\n",
            "Requirement already satisfied: opentelemetry-api>=1.2.0 in /usr/local/lib/python3.12/dist-packages (from chromadb) (1.37.0)\n",
            "Collecting opentelemetry-exporter-otlp-proto-grpc>=1.2.0 (from chromadb)\n",
            "  Using cached opentelemetry_exporter_otlp_proto_grpc-1.37.0-py3-none-any.whl.metadata (2.4 kB)\n",
            "Requirement already satisfied: opentelemetry-sdk>=1.2.0 in /usr/local/lib/python3.12/dist-packages (from chromadb) (1.37.0)\n",
            "Requirement already satisfied: tokenizers>=0.13.2 in /usr/local/lib/python3.12/dist-packages (from chromadb) (0.22.0)\n",
            "Requirement already satisfied: pypika>=0.48.9 in /usr/local/lib/python3.12/dist-packages (from chromadb) (0.48.9)\n",
            "Requirement already satisfied: tqdm>=4.65.0 in /usr/local/lib/python3.12/dist-packages (from chromadb) (4.67.1)\n",
            "Requirement already satisfied: overrides>=7.3.1 in /usr/local/lib/python3.12/dist-packages (from chromadb) (7.7.0)\n",
            "Requirement already satisfied: importlib-resources in /usr/local/lib/python3.12/dist-packages (from chromadb) (6.5.2)\n",
            "Requirement already satisfied: grpcio>=1.58.0 in /usr/local/lib/python3.12/dist-packages (from chromadb) (1.75.0)\n",
            "Requirement already satisfied: bcrypt>=4.0.1 in /usr/local/lib/python3.12/dist-packages (from chromadb) (5.0.0)\n",
            "Requirement already satisfied: typer>=0.9.0 in /usr/local/lib/python3.12/dist-packages (from chromadb) (0.17.4)\n",
            "Collecting kubernetes>=28.1.0 (from chromadb)\n",
            "  Using cached kubernetes-34.1.0-py2.py3-none-any.whl.metadata (1.7 kB)\n",
            "Requirement already satisfied: tenacity>=8.2.3 in /usr/local/lib/python3.12/dist-packages (from chromadb) (8.5.0)\n",
            "Requirement already satisfied: pyyaml>=6.0.0 in /usr/local/lib/python3.12/dist-packages (from chromadb) (6.0.2)\n",
            "Requirement already satisfied: mmh3>=4.0.1 in /usr/local/lib/python3.12/dist-packages (from chromadb) (5.2.0)\n",
            "Requirement already satisfied: orjson>=3.9.12 in /usr/local/lib/python3.12/dist-packages (from chromadb) (3.11.3)\n",
            "Requirement already satisfied: httpx>=0.27.0 in /usr/local/lib/python3.12/dist-packages (from chromadb) (0.28.1)\n",
            "Requirement already satisfied: rich>=10.11.0 in /usr/local/lib/python3.12/dist-packages (from chromadb) (13.9.4)\n",
            "Requirement already satisfied: jsonschema>=4.19.0 in /usr/local/lib/python3.12/dist-packages (from chromadb) (4.25.1)\n",
            "Requirement already satisfied: packaging>=19.1 in /usr/local/lib/python3.12/dist-packages (from build>=1.0.3->chromadb) (25.0)\n",
            "Requirement already satisfied: pyproject_hooks in /usr/local/lib/python3.12/dist-packages (from build>=1.0.3->chromadb) (1.2.0)\n",
            "Requirement already satisfied: anyio in /usr/local/lib/python3.12/dist-packages (from httpx>=0.27.0->chromadb) (4.10.0)\n",
            "Requirement already satisfied: certifi in /usr/local/lib/python3.12/dist-packages (from httpx>=0.27.0->chromadb) (2025.8.3)\n",
            "Requirement already satisfied: httpcore==1.* in /usr/local/lib/python3.12/dist-packages (from httpx>=0.27.0->chromadb) (1.0.9)\n",
            "Requirement already satisfied: idna in /usr/local/lib/python3.12/dist-packages (from httpx>=0.27.0->chromadb) (3.10)\n",
            "Requirement already satisfied: h11>=0.16 in /usr/local/lib/python3.12/dist-packages (from httpcore==1.*->httpx>=0.27.0->chromadb) (0.16.0)\n",
            "Requirement already satisfied: attrs>=22.2.0 in /usr/local/lib/python3.12/dist-packages (from jsonschema>=4.19.0->chromadb) (25.3.0)\n",
            "Requirement already satisfied: jsonschema-specifications>=2023.03.6 in /usr/local/lib/python3.12/dist-packages (from jsonschema>=4.19.0->chromadb) (2025.9.1)\n",
            "Requirement already satisfied: referencing>=0.28.4 in /usr/local/lib/python3.12/dist-packages (from jsonschema>=4.19.0->chromadb) (0.36.2)\n",
            "Requirement already satisfied: rpds-py>=0.7.1 in /usr/local/lib/python3.12/dist-packages (from jsonschema>=4.19.0->chromadb) (0.27.1)\n",
            "Requirement already satisfied: six>=1.9.0 in /usr/local/lib/python3.12/dist-packages (from kubernetes>=28.1.0->chromadb) (1.17.0)\n",
            "Requirement already satisfied: python-dateutil>=2.5.3 in /usr/local/lib/python3.12/dist-packages (from kubernetes>=28.1.0->chromadb) (2.9.0.post0)\n",
            "Requirement already satisfied: google-auth>=1.0.1 in /usr/local/lib/python3.12/dist-packages (from kubernetes>=28.1.0->chromadb) (2.38.0)\n",
            "Requirement already satisfied: websocket-client!=0.40.0,!=0.41.*,!=0.42.*,>=0.32.0 in /usr/local/lib/python3.12/dist-packages (from kubernetes>=28.1.0->chromadb) (1.8.0)\n",
            "Requirement already satisfied: requests in /usr/local/lib/python3.12/dist-packages (from kubernetes>=28.1.0->chromadb) (2.32.4)\n",
            "Requirement already satisfied: requests-oauthlib in /usr/local/lib/python3.12/dist-packages (from kubernetes>=28.1.0->chromadb) (2.0.0)\n",
            "Requirement already satisfied: urllib3<2.4.0,>=1.24.2 in /usr/local/lib/python3.12/dist-packages (from kubernetes>=28.1.0->chromadb) (2.3.0)\n",
            "Requirement already satisfied: durationpy>=0.7 in /usr/local/lib/python3.12/dist-packages (from kubernetes>=28.1.0->chromadb) (0.10)\n",
            "Requirement already satisfied: coloredlogs in /usr/local/lib/python3.12/dist-packages (from onnxruntime>=1.14.1->chromadb) (15.0.1)\n",
            "Requirement already satisfied: flatbuffers in /usr/local/lib/python3.12/dist-packages (from onnxruntime>=1.14.1->chromadb) (25.2.10)\n",
            "Requirement already satisfied: protobuf in /usr/local/lib/python3.12/dist-packages (from onnxruntime>=1.14.1->chromadb) (5.29.5)\n",
            "Requirement already satisfied: sympy in /usr/local/lib/python3.12/dist-packages (from onnxruntime>=1.14.1->chromadb) (1.13.3)\n",
            "Requirement already satisfied: importlib-metadata<8.8.0,>=6.0 in /usr/local/lib/python3.12/dist-packages (from opentelemetry-api>=1.2.0->chromadb) (8.7.0)\n",
            "Requirement already satisfied: googleapis-common-protos~=1.57 in /usr/local/lib/python3.12/dist-packages (from opentelemetry-exporter-otlp-proto-grpc>=1.2.0->chromadb) (1.70.0)\n",
            "Requirement already satisfied: opentelemetry-exporter-otlp-proto-common==1.37.0 in /usr/local/lib/python3.12/dist-packages (from opentelemetry-exporter-otlp-proto-grpc>=1.2.0->chromadb) (1.37.0)\n",
            "Requirement already satisfied: opentelemetry-proto==1.37.0 in /usr/local/lib/python3.12/dist-packages (from opentelemetry-exporter-otlp-proto-grpc>=1.2.0->chromadb) (1.37.0)\n",
            "Requirement already satisfied: opentelemetry-semantic-conventions==0.58b0 in /usr/local/lib/python3.12/dist-packages (from opentelemetry-sdk>=1.2.0->chromadb) (0.58b0)\n",
            "Requirement already satisfied: backoff>=1.10.0 in /usr/local/lib/python3.12/dist-packages (from posthog<6.0.0,>=2.4.0->chromadb) (2.2.1)\n",
            "Requirement already satisfied: distro>=1.5.0 in /usr/local/lib/python3.12/dist-packages (from posthog<6.0.0,>=2.4.0->chromadb) (1.9.0)\n",
            "Requirement already satisfied: annotated-types>=0.6.0 in /usr/local/lib/python3.12/dist-packages (from pydantic>=1.9->chromadb) (0.7.0)\n",
            "Requirement already satisfied: pydantic-core==2.33.2 in /usr/local/lib/python3.12/dist-packages (from pydantic>=1.9->chromadb) (2.33.2)\n",
            "Requirement already satisfied: typing-inspection>=0.4.0 in /usr/local/lib/python3.12/dist-packages (from pydantic>=1.9->chromadb) (0.4.1)\n",
            "Requirement already satisfied: markdown-it-py>=2.2.0 in /usr/local/lib/python3.12/dist-packages (from rich>=10.11.0->chromadb) (4.0.0)\n",
            "Requirement already satisfied: pygments<3.0.0,>=2.13.0 in /usr/local/lib/python3.12/dist-packages (from rich>=10.11.0->chromadb) (2.19.2)\n",
            "Requirement already satisfied: huggingface-hub<1.0,>=0.16.4 in /usr/local/lib/python3.12/dist-packages (from tokenizers>=0.13.2->chromadb) (0.35.0)\n",
            "Requirement already satisfied: click>=8.0.0 in /usr/local/lib/python3.12/dist-packages (from typer>=0.9.0->chromadb) (8.2.1)\n",
            "Requirement already satisfied: shellingham>=1.3.0 in /usr/local/lib/python3.12/dist-packages (from typer>=0.9.0->chromadb) (1.5.4)\n",
            "Requirement already satisfied: httptools>=0.6.3 in /usr/local/lib/python3.12/dist-packages (from uvicorn[standard]>=0.18.3->chromadb) (0.6.4)\n",
            "Requirement already satisfied: python-dotenv>=0.13 in /usr/local/lib/python3.12/dist-packages (from uvicorn[standard]>=0.18.3->chromadb) (1.1.1)\n",
            "Requirement already satisfied: uvloop>=0.15.1 in /usr/local/lib/python3.12/dist-packages (from uvicorn[standard]>=0.18.3->chromadb) (0.21.0)\n",
            "Requirement already satisfied: watchfiles>=0.13 in /usr/local/lib/python3.12/dist-packages (from uvicorn[standard]>=0.18.3->chromadb) (1.1.0)\n",
            "Requirement already satisfied: websockets>=10.4 in /usr/local/lib/python3.12/dist-packages (from uvicorn[standard]>=0.18.3->chromadb) (15.0.1)\n",
            "Requirement already satisfied: cachetools<6.0,>=2.0.0 in /usr/local/lib/python3.12/dist-packages (from google-auth>=1.0.1->kubernetes>=28.1.0->chromadb) (5.5.2)\n",
            "Requirement already satisfied: pyasn1-modules>=0.2.1 in /usr/local/lib/python3.12/dist-packages (from google-auth>=1.0.1->kubernetes>=28.1.0->chromadb) (0.4.2)\n",
            "Requirement already satisfied: rsa<5,>=3.1.4 in /usr/local/lib/python3.12/dist-packages (from google-auth>=1.0.1->kubernetes>=28.1.0->chromadb) (4.9.1)\n",
            "Requirement already satisfied: filelock in /usr/local/lib/python3.12/dist-packages (from huggingface-hub<1.0,>=0.16.4->tokenizers>=0.13.2->chromadb) (3.19.1)\n",
            "Requirement already satisfied: fsspec>=2023.5.0 in /usr/local/lib/python3.12/dist-packages (from huggingface-hub<1.0,>=0.16.4->tokenizers>=0.13.2->chromadb) (2025.3.0)\n",
            "Requirement already satisfied: hf-xet<2.0.0,>=1.1.3 in /usr/local/lib/python3.12/dist-packages (from huggingface-hub<1.0,>=0.16.4->tokenizers>=0.13.2->chromadb) (1.1.10)\n",
            "Requirement already satisfied: zipp>=3.20 in /usr/local/lib/python3.12/dist-packages (from importlib-metadata<8.8.0,>=6.0->opentelemetry-api>=1.2.0->chromadb) (3.23.0)\n",
            "Requirement already satisfied: mdurl~=0.1 in /usr/local/lib/python3.12/dist-packages (from markdown-it-py>=2.2.0->rich>=10.11.0->chromadb) (0.1.2)\n",
            "Requirement already satisfied: charset_normalizer<4,>=2 in /usr/local/lib/python3.12/dist-packages (from requests->kubernetes>=28.1.0->chromadb) (3.4.3)\n",
            "Requirement already satisfied: sniffio>=1.1 in /usr/local/lib/python3.12/dist-packages (from anyio->httpx>=0.27.0->chromadb) (1.3.1)\n",
            "Requirement already satisfied: humanfriendly>=9.1 in /usr/local/lib/python3.12/dist-packages (from coloredlogs->onnxruntime>=1.14.1->chromadb) (10.0)\n",
            "Requirement already satisfied: oauthlib>=3.0.0 in /usr/local/lib/python3.12/dist-packages (from requests-oauthlib->kubernetes>=28.1.0->chromadb) (3.3.1)\n",
            "Requirement already satisfied: mpmath<1.4,>=1.1.0 in /usr/local/lib/python3.12/dist-packages (from sympy->onnxruntime>=1.14.1->chromadb) (1.3.0)\n",
            "Requirement already satisfied: pyasn1<0.7.0,>=0.6.1 in /usr/local/lib/python3.12/dist-packages (from pyasn1-modules>=0.2.1->google-auth>=1.0.1->kubernetes>=28.1.0->chromadb) (0.6.1)\n",
            "Using cached chromadb-1.1.0-cp39-abi3-manylinux_2_17_x86_64.manylinux2014_x86_64.whl (19.8 MB)\n",
            "Using cached kubernetes-34.1.0-py2.py3-none-any.whl (2.0 MB)\n",
            "Using cached onnxruntime-1.23.0-cp312-cp312-manylinux_2_27_x86_64.manylinux_2_28_x86_64.whl (17.3 MB)\n",
            "Using cached opentelemetry_exporter_otlp_proto_grpc-1.37.0-py3-none-any.whl (19 kB)\n",
            "Installing collected packages: onnxruntime, kubernetes, opentelemetry-exporter-otlp-proto-grpc, chromadb\n",
            "Successfully installed chromadb-1.1.0 kubernetes-34.1.0 onnxruntime-1.23.0 opentelemetry-exporter-otlp-proto-grpc-1.37.0\n"
          ]
        }
      ]
    },
    {
      "cell_type": "markdown",
      "source": [
        "chromadb is used as a vector database.\n",
        "\n",
        "*   This chromadb is crucial for storing and searching for similar items based on their numerical representations(embeddings)\n",
        "*   Usage: use it to store the vectorized representations of our posts and efficiently find posts that are similar to a user's profile or interests\n",
        "\n",
        "\n"
      ],
      "metadata": {
        "id": "9bXXSvFE_zFg"
      }
    },
    {
      "cell_type": "code",
      "execution_count": 7,
      "metadata": {
        "id": "tD5IFE7sihRE"
      },
      "outputs": [],
      "source": [
        "import pandas as pd # used for data manupulation and analysis\n",
        "import chromadb\n",
        "from chromadb.utils import embedding_functions # pre-built function to convert text data into numerical vector embeddings which are essential for storing & searching in a vector database"
      ]
    },
    {
      "cell_type": "code",
      "source": [
        "users = pd.read_csv('/content/Users.csv')\n",
        "posts = pd.read_csv('/content/Posts.csv')\n",
        "engagements = pd.read_csv('/content/Engagements.csv')\n",
        "\n",
        "print(users.head())\n",
        "print(posts.head())\n",
        "print(engagements.head())"
      ],
      "metadata": {
        "colab": {
          "base_uri": "https://localhost:8080/"
        },
        "id": "gZf2vgbi8IZF",
        "outputId": "38816949-7a4d-4bc8-89e5-7f3b499cb468"
      },
      "execution_count": 8,
      "outputs": [
        {
          "output_type": "stream",
          "name": "stdout",
          "text": [
            "  user_id  age gender          top_3_interests  past_engagement_score\n",
            "0      U1   24      F      sports, art, gaming                   0.61\n",
            "1      U2   32      F    travel, food, fashion                   0.93\n",
            "2      U3   28  Other  sports, travel, fashion                   0.40\n",
            "3      U4   25      M     fashion, music, tech                   0.53\n",
            "4      U5   24      M   fashion, food, fitness                   0.80\n",
            "  post_id creator_id content_type            tags\n",
            "0      P1        U44        video    sports, food\n",
            "1      P2        U26        video   music, travel\n",
            "2      P3        U32         text  sports, travel\n",
            "3      P4         U6        image   music, gaming\n",
            "4      P5        U32        image   food, fashion\n",
            "  user_id post_id  engagement\n",
            "0      U1     P52           1\n",
            "1      U1     P44           0\n",
            "2      U1      P1           1\n",
            "3      U1      P4           1\n",
            "4      U1     P65           0\n"
          ]
        }
      ]
    },
    {
      "cell_type": "code",
      "source": [
        "Top = 3  # for top 3 recommendations to provide\n",
        "def normalize_list_field(s):\n",
        "    if pd.isna(s): return []\n",
        "    return [x.strip().lower() for x in str(s).split(\",\") if x.strip()]\n",
        "\n",
        "# Preprocess posts\n",
        "posts[\"tags_list\"] = posts[\"tags\"].apply(normalize_list_field)\n",
        "posts[\"doc_text\"] = posts[\"tags\"].apply(lambda x: str(x).lower()) + \" \" + posts[\"content_type\"].fillna(\"\").str.lower()\n",
        "\n",
        "# Map post_id → tags text (for user profile building)\n",
        "post_tag_map = posts.set_index(\"post_id\")[\"tags\"].to_dict()"
      ],
      "metadata": {
        "id": "ZS2Xp1BD8yOH"
      },
      "execution_count": 9,
      "outputs": []
    },
    {
      "cell_type": "code",
      "source": [
        "# Compute popularity (global engagement count)\n",
        "popularity = engagements[engagements[\"engagement\"] == 1].groupby(\"post_id\").size().to_dict()\n",
        "if popularity:\n",
        "    min_pop, max_pop = min(popularity.values()), max(popularity.values())\n",
        "    post_popularity = {k: (v - min_pop) / (max_pop - min_pop + 1e-9) for k, v in popularity.items()}\n",
        "else:\n",
        "    post_popularity = {}"
      ],
      "metadata": {
        "id": "lJauQpdqWlxt"
      },
      "execution_count": 31,
      "outputs": []
    },
    {
      "cell_type": "code",
      "source": [
        "#Init Chroma + embedding function\n",
        "client = chromadb.Client() # client is an interface it interacts with chromadb\n",
        "embedding_model = embedding_functions.DefaultEmbeddingFunction() # converts the doc_text -> numerical vector embeddings that captures semantic meaning of the text\n",
        "\n",
        "collection = client.get_or_create_collection(\n",
        "    name=\"posts_collection\",\n",
        "    metadata={\"hnsw:space\": \"cosine\"},\n",
        "    embedding_function=embedding_model,\n",
        ")"
      ],
      "metadata": {
        "id": "KNpjwzLqZ8bj"
      },
      "execution_count": 32,
      "outputs": []
    },
    {
      "cell_type": "code",
      "source": [
        "#Insert posts into vector DB\n",
        "documents = posts[\"doc_text\"].tolist()\n",
        "metadatas = posts[[\"post_id\", \"creator_id\", \"content_type\", \"tags\"]].to_dict(orient=\"records\")\n",
        "ids = posts[\"post_id\"].astype(str).tolist()\n",
        "\n",
        "collection.upsert(documents=documents, metadatas=metadatas, ids=ids)"
      ],
      "metadata": {
        "id": "w4n6mkUoaD-Y"
      },
      "execution_count": 33,
      "outputs": []
    },
    {
      "cell_type": "code",
      "source": [
        "# Build recommendations\n",
        "recommendations = []\n",
        "\n",
        "for _, u in users.iterrows():\n",
        "    uid = u[\"user_id\"]\n",
        "    interests = normalize_list_field(u.get(\"top_3_interests\", \"\"))\n",
        "\n",
        "    # Positive engagements\n",
        "    pos_posts = engagements[(engagements[\"user_id\"] == uid) & (engagements[\"engagement\"] == 1)][\"post_id\"].tolist()\n",
        "    pos_tags = []\n",
        "    for pid in pos_posts:\n",
        "        pos_tags.extend(normalize_list_field(post_tag_map.get(pid, \"\")))\n",
        "\n",
        "    # Combine into one profile text\n",
        "    profile_terms = interests + pos_tags\n",
        "    profile_text = \" \".join(profile_terms).strip()\n",
        "\n",
        "    if not profile_text:\n",
        "        # fallback: top popular posts\n",
        "        top_ids = posts[\"post_id\"].head(Top).tolist()\n",
        "    else:\n",
        "        engaged_posts = set(pos_posts)\n",
        "        results = collection.query(query_texts=[profile_text], n_results=Top * 5)  # fetch extra candidates\n",
        "\n",
        "        candidates = []\n",
        "        for sim, meta in zip(results[\"distances\"][0], results[\"metadatas\"][0]):\n",
        "            pid = meta[\"post_id\"]\n",
        "            if pid in engaged_posts:\n",
        "                continue\n",
        "\n",
        "            # 1. Embedding similarity (Chroma returns distance → convert to similarity)\n",
        "            emb_sim = 1 - sim\n",
        "\n",
        "            # 2. Popularity score\n",
        "            pop_score = post_popularity.get(pid, 0.0)\n",
        "\n",
        "            # 3. Interest overlap\n",
        "            user_int = set(interests)\n",
        "            post_tags = set(normalize_list_field(meta[\"tags\"]))\n",
        "            overlap = len(user_int & post_tags) / len(user_int) if user_int else 0.0\n",
        "\n",
        "            # Hybrid score\n",
        "            final_score = 0.5 * emb_sim + 0.3 * pop_score + 0.2 * overlap\n",
        "            candidates.append((pid, final_score))\n",
        "\n",
        "        # Sort and pick top-K\n",
        "        candidates.sort(key=lambda x: x[1], reverse=True)\n",
        "        top_ids = [pid for pid, score in candidates[:Top]]\n",
        "\n",
        "    recommendations.append({\"user_id\": uid, \"recommended_posts\": top_ids})\n",
        "\n",
        "rec_df = pd.DataFrame(recommendations)\n",
        "print(rec_df.head())"
      ],
      "metadata": {
        "colab": {
          "base_uri": "https://localhost:8080/"
        },
        "id": "qRt5-om3aJFF",
        "outputId": "083c8f0f-1e79-453f-adf6-a2b28785a6f5"
      },
      "execution_count": 35,
      "outputs": [
        {
          "output_type": "stream",
          "name": "stdout",
          "text": [
            "  user_id recommended_posts\n",
            "0      U1   [P46, P22, P39]\n",
            "1      U2   [P42, P53, P69]\n",
            "2      U3   [P39, P46, P53]\n",
            "3      U4    [P53, P1, P46]\n",
            "4      U5   [P69, P53, P58]\n"
          ]
        }
      ]
    },
    {
      "cell_type": "code",
      "source": [
        "\n",
        "def normalize_list_field(s):\n",
        "    if pd.isna(s):\n",
        "        return []\n",
        "    return [x.strip().lower() for x in str(s).split(\",\") if x.strip()]\n",
        "\n",
        "# Map post_id to tags\n",
        "post_tag_map = posts.set_index(\"post_id\")[\"tags\"].to_dict()\n",
        "\n",
        "hits, total_users = 0, 0\n",
        "precision_sum, recall_sum = 0, 0\n",
        "\n",
        "for uid, group in engagements.groupby(\"user_id\"):\n",
        "    engaged_posts = set(group[group[\"engagement\"] == 1][\"post_id\"].tolist())\n",
        "    if not engaged_posts:\n",
        "        continue\n",
        "\n",
        "    # Tags from engaged posts\n",
        "    engaged_tags = set()\n",
        "    for pid in engaged_posts:\n",
        "        engaged_tags.update(normalize_list_field(post_tag_map.get(pid, \"\")))\n",
        "\n",
        "    # Recommended posts for this user\n",
        "    recs = rec_df.loc[rec_df[\"user_id\"] == uid, \"recommended_posts\"].values\n",
        "    if len(recs) == 0:\n",
        "        continue\n",
        "    recs = set(recs[0])\n",
        "\n",
        "    # Tags from recommended posts\n",
        "    rec_tags = set()\n",
        "    for pid in recs:\n",
        "        rec_tags.update(normalize_list_field(post_tag_map.get(pid, \"\")))\n",
        "\n",
        "    # True positives = tag overlap\n",
        "    true_pos = len(engaged_tags & rec_tags)\n",
        "\n",
        "    # Precision\n",
        "    precision = true_pos / len(rec_tags) if rec_tags else 0\n",
        "    precision_sum += precision\n",
        "\n",
        "    # Recall\n",
        "    recall = true_pos / len(engaged_tags) if engaged_tags else 0\n",
        "    recall_sum += recall\n",
        "\n",
        "    # Accuracy (did we hit at least 1 tag?)\n",
        "    if true_pos > 0:\n",
        "        hits += 1\n",
        "\n",
        "    total_users += 1\n",
        "\n",
        "# Averages\n",
        "precision = precision_sum / total_users if total_users else None\n",
        "recall = recall_sum / total_users if total_users else None\n",
        "accuracy = hits / total_users if total_users else None\n",
        "\n",
        "print(\"Precision:\", precision)\n",
        "print(\"Recall:\", recall)\n",
        "print(\"Accuracy:\", accuracy)"
      ],
      "metadata": {
        "colab": {
          "base_uri": "https://localhost:8080/"
        },
        "id": "yxF67Z0oW1ki",
        "outputId": "ada65e05-5bbb-48c1-8e72-cf5af0bc46d0"
      },
      "execution_count": 39,
      "outputs": [
        {
          "output_type": "stream",
          "name": "stdout",
          "text": [
            "Precision: 0.8366666666666664\n",
            "Recall: 0.4180714285714285\n",
            "Accuracy: 1.0\n"
          ]
        }
      ]
    },
    {
      "cell_type": "markdown",
      "source": [
        "# Interest-Based Content Recommendation System\n",
        "\n",
        "## 1. Goal / Task\n",
        "The goal of this project is to **recommend the top 3 posts to each user** based on:  \n",
        "- Their profile interests  \n",
        "- Past engagement behavior  \n",
        "- Post content attributes (tags, type)  \n",
        "\n",
        "This helps users discover content they are more likely to engage with, improving user experience and engagement rates.\n",
        "\n",
        "---\n",
        "\n",
        "## 2. Datasets\n",
        "\n",
        "We use three datasets which are linked together:\n",
        "\n",
        "### Users dataset\n",
        "| Column | Description |\n",
        "|--------|-------------|\n",
        "| user_id | Unique identifier for each user |\n",
        "| age | Age of the user |\n",
        "| gender | Gender of the user |\n",
        "| top_3_interests | Top three interests of the user |\n",
        "| past_engagement_score | A score representing the user's previous engagement level |\n",
        "\n",
        "### Posts dataset\n",
        "| Column | Description |\n",
        "|--------|-------------|\n",
        "| post_id | Unique identifier for each post |\n",
        "| creator_id | ID of the user who created the post |\n",
        "| content_type | Type of content (e.g., video, text, image) |\n",
        "| tags | Tags describing the content or topics of the post |\n",
        "\n",
        "### Engagements dataset\n",
        "| Column | Description |\n",
        "|--------|-------------|\n",
        "| user_id | ID of the user who engaged with a post |\n",
        "| post_id | ID of the engaged post |\n",
        "| engagement | Engagement type or level (1 = positive, 0 = none/negative) |\n",
        "\n",
        "**How the datasets are linked:**  \n",
        "- engagements.user_id → links to users.user_id  \n",
        "- engagements.post_id → links to posts.post_id\n",
        "- posts.creator_id → links to users.user_id (who created the post)  \n",
        "\n",
        "These links allow us to track which users interacted with which posts and which posts were created by which users.\n",
        "\n",
        "---\n",
        "\n",
        "## 3. Approach / Methodology\n",
        "\n",
        "We followed a **step-by-step approach** to generate recommendations:\n",
        "\n",
        "### Step 1: Preprocessing\n",
        "- Normalize tags: convert to lowercase and remove extra spaces  \n",
        "- Create a combined `doc_text` for each post: `tags + content_type`  \n",
        "\n",
        "### Step 2: Build user profiles\n",
        "- Combine each user’s **top 3 interests** with the **tags of posts they engaged with**  \n",
        "- This gives a textual profile representing their preferences  \n",
        "\n",
        "### Step 3: Represent posts & profiles using embeddings\n",
        "- Use **ChromaDB** to convert text into **vector embeddings**  \n",
        "- Embeddings capture the semantic meaning of posts and user profiles  \n",
        "\n",
        "### Step 4: Generate candidate recommendations\n",
        "- For each user, compute **similarity between their profile and all posts** using embeddings  \n",
        "- Compute a **hybrid score** for each candidate post:\n",
        "  1. Embedding similarity (0.5 weight)  \n",
        "  2. Post popularity based on past engagement (0.3 weight)  \n",
        "  3. Overlap between user interests and post tags (0.2 weight)  \n",
        "\n",
        "### Step 5: Select top 3 posts\n",
        "- Sort candidate posts by their hybrid score  \n",
        "- Pick the **top 3 posts** as recommendations for the user  \n",
        "\n",
        "---\n",
        "\n",
        "## 4. Evaluation Metrics\n",
        "\n",
        "To measure recommendation quality, we computed:\n",
        "\n",
        "- High precision (≈ 0.84) indicates recommendations are mostly relevant.  \n",
        "- Moderate recall (≈ 0.42) shows some relevant tags may be missing, can improve with more personalization.  \n",
        "- Perfect accuracy (1.0) ensures every user got at least one relevant post.\n",
        "\n",
        "---\n",
        "\n",
        "## 5. Possible Extensions\n",
        "- Include **full post content embeddings** for better similarity matching  \n",
        "- Combine **collaborative filtering** with this content-based method   \n",
        "- Include **trending posts** or **time decay** for popularity scoring\n"
      ],
      "metadata": {
        "id": "oNEv0V4cbPi3"
      }
    },
    {
      "cell_type": "code",
      "source": [],
      "metadata": {
        "id": "MjZ02J3ocrmc"
      },
      "execution_count": null,
      "outputs": []
    }
  ]
}